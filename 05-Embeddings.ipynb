{
 "cells": [
  {
   "cell_type": "code",
   "execution_count": 1,
   "metadata": {},
   "outputs": [],
   "source": [
    "from tensorflow.compat.v1 import ConfigProto\n",
    "from tensorflow.compat.v1 import InteractiveSession\n",
    "config = ConfigProto()\n",
    "config.gpu_options.allow_growth = True\n",
    "session = InteractiveSession(config=config)"
   ]
  },
  {
   "cell_type": "code",
   "execution_count": 2,
   "metadata": {},
   "outputs": [],
   "source": [
    "import pandas as pd\n",
    "import numpy as np\n",
    "import datetime\n",
    "from pandas_summary import DataFrameSummary"
   ]
  },
  {
   "cell_type": "code",
   "execution_count": 3,
   "metadata": {},
   "outputs": [],
   "source": [
    "df_test = pd.read_feather('test_normalized_data.fth')"
   ]
  },
  {
   "cell_type": "markdown",
   "metadata": {},
   "source": [
    "- Para verificar que columnas tiene originalmente tests. Por ejemplo, como es de esperar, la columna customers no es dato y podría intentar estimarse tambien\n",
    "- Es bastante discutible usar el clima y temperatura (Se puede usar el forecast si es en el futuro)\n",
    "- En un caso real no parece sensato usar google trend"
   ]
  },
  {
   "cell_type": "code",
   "execution_count": 4,
   "metadata": {},
   "outputs": [
    {
     "data": {
      "text/plain": [
       "Index(['index', 'Id', 'Store', 'DayOfWeek', 'Date', 'Open', 'Promo',\n",
       "       'StateHoliday', 'SchoolHoliday', 'Year', 'Month', 'Week', 'Day',\n",
       "       'StoreType', 'Assortment', 'CompetitionDistance',\n",
       "       'CompetitionOpenSinceMonth', 'CompetitionOpenSinceYear', 'Promo2',\n",
       "       'Promo2SinceWeek', 'Promo2SinceYear', 'PromoInterval',\n",
       "       'CompetitionOpenSince', 'Promo2Since', 'State', 'file', 'week', 'trend',\n",
       "       'Date_y', 'Month_y', 'Day_y', 'file_DE', 'week_DE', 'trend_DE',\n",
       "       'Date_DE', 'State_DE', 'Month_DE', 'Day_DE', 'file_y',\n",
       "       'Max_TemperatureC', 'Mean_TemperatureC', 'Min_TemperatureC',\n",
       "       'Dew_PointC', 'MeanDew_PointC', 'Min_DewpointC', 'Max_Humidity',\n",
       "       'Mean_Humidity', 'Min_Humidity', 'Max_Sea_Level_PressurehPa',\n",
       "       'Mean_Sea_Level_PressurehPa', 'Min_Sea_Level_PressurehPa',\n",
       "       'Max_VisibilityKm', 'Mean_VisibilityKm', 'Min_VisibilitykM',\n",
       "       'Max_Wind_SpeedKm_h', 'Mean_Wind_SpeedKm_h', 'Max_Gust_SpeedKm_h',\n",
       "       'Precipitationmm', 'CloudCover', 'Events', 'WindDirDegrees',\n",
       "       'StateName', 'Year_y', 'Week_y', 'CompetitionDaysOpen',\n",
       "       'CompetitionMonthsOpen', 'Promo2Days', 'Promo2Weeks',\n",
       "       'StateHoliday_bool', 'AfterSchoolHoliday', 'BeforeSchoolHoliday',\n",
       "       'AfterStateHoliday_bool', 'BeforeStateHoliday_bool', 'AfterPromo',\n",
       "       'BeforePromo', 'SchoolHoliday_bw', 'StateHoliday_bool_bw', 'Promo_bw',\n",
       "       'SchoolHoliday_fw', 'StateHoliday_bool_fw', 'Promo_fw'],\n",
       "      dtype='object')"
      ]
     },
     "execution_count": 4,
     "metadata": {},
     "output_type": "execute_result"
    }
   ],
   "source": [
    "df_test.columns"
   ]
  },
  {
   "cell_type": "code",
   "execution_count": 5,
   "metadata": {},
   "outputs": [],
   "source": [
    "df = pd.read_feather('train_normalized_data.fth')"
   ]
  },
  {
   "cell_type": "code",
   "execution_count": 10,
   "metadata": {},
   "outputs": [],
   "source": [
    "cat_vars = ['Store', 'DayOfWeek', 'Year', 'Month', 'Day', 'StateHoliday', 'CompetitionMonthsOpen', 'Promo2Weeks', \n",
    "            'StoreType', 'Assortment', 'PromoInterval', 'CompetitionOpenSinceYear', 'Promo2SinceYear', 'State', \n",
    "            'Week', 'Events', 'Promo_fw', 'Promo_bw', 'StateHoliday_bool_fw', 'StateHoliday_bool_bw', 'SchoolHoliday_fw', 'SchoolHoliday_bw']"
   ]
  },
  {
   "cell_type": "code",
   "execution_count": 7,
   "metadata": {},
   "outputs": [],
   "source": [
    "contin_vars = ['CompetitionDistance', \n",
    "   'Max_TemperatureC', 'Mean_TemperatureC', 'Min_TemperatureC',\n",
    "   'Max_Humidity', 'Mean_Humidity', 'Min_Humidity', 'Max_Wind_SpeedKm_h', \n",
    "   'Mean_Wind_SpeedKm_h', 'CloudCover', 'trend', 'trend_DE',\n",
    "   'AfterStateHoliday', 'BeforeStateHoliday', 'Promo', 'SchoolHoliday']"
   ]
  },
  {
   "cell_type": "code",
   "execution_count": 11,
   "metadata": {},
   "outputs": [
    {
     "data": {
      "text/html": [
       "<div>\n",
       "<style scoped>\n",
       "    .dataframe tbody tr th:only-of-type {\n",
       "        vertical-align: middle;\n",
       "    }\n",
       "\n",
       "    .dataframe tbody tr th {\n",
       "        vertical-align: top;\n",
       "    }\n",
       "\n",
       "    .dataframe thead th {\n",
       "        text-align: right;\n",
       "    }\n",
       "</style>\n",
       "<table border=\"1\" class=\"dataframe\">\n",
       "  <thead>\n",
       "    <tr style=\"text-align: right;\">\n",
       "      <th></th>\n",
       "      <th>Store</th>\n",
       "      <th>DayOfWeek</th>\n",
       "      <th>Year</th>\n",
       "      <th>Month</th>\n",
       "      <th>Day</th>\n",
       "      <th>StateHoliday</th>\n",
       "      <th>CompetitionMonthsOpen</th>\n",
       "      <th>Promo2Weeks</th>\n",
       "      <th>StoreType</th>\n",
       "      <th>Assortment</th>\n",
       "      <th>...</th>\n",
       "      <th>Promo2SinceYear</th>\n",
       "      <th>State</th>\n",
       "      <th>Week</th>\n",
       "      <th>Events</th>\n",
       "      <th>Promo_fw</th>\n",
       "      <th>Promo_bw</th>\n",
       "      <th>StateHoliday_bool_fw</th>\n",
       "      <th>StateHoliday_bool_bw</th>\n",
       "      <th>SchoolHoliday_fw</th>\n",
       "      <th>SchoolHoliday_bw</th>\n",
       "    </tr>\n",
       "  </thead>\n",
       "  <tbody>\n",
       "    <tr>\n",
       "      <th>uniques</th>\n",
       "      <td>1115</td>\n",
       "      <td>7</td>\n",
       "      <td>3</td>\n",
       "      <td>12</td>\n",
       "      <td>31</td>\n",
       "      <td>4</td>\n",
       "      <td>25</td>\n",
       "      <td>26</td>\n",
       "      <td>4</td>\n",
       "      <td>3</td>\n",
       "      <td>...</td>\n",
       "      <td>8</td>\n",
       "      <td>12</td>\n",
       "      <td>52</td>\n",
       "      <td>22</td>\n",
       "      <td>6</td>\n",
       "      <td>6</td>\n",
       "      <td>3</td>\n",
       "      <td>3</td>\n",
       "      <td>8</td>\n",
       "      <td>8</td>\n",
       "    </tr>\n",
       "    <tr>\n",
       "      <th>types</th>\n",
       "      <td>numeric</td>\n",
       "      <td>numeric</td>\n",
       "      <td>numeric</td>\n",
       "      <td>numeric</td>\n",
       "      <td>numeric</td>\n",
       "      <td>numeric</td>\n",
       "      <td>numeric</td>\n",
       "      <td>numeric</td>\n",
       "      <td>numeric</td>\n",
       "      <td>numeric</td>\n",
       "      <td>...</td>\n",
       "      <td>numeric</td>\n",
       "      <td>numeric</td>\n",
       "      <td>numeric</td>\n",
       "      <td>numeric</td>\n",
       "      <td>numeric</td>\n",
       "      <td>numeric</td>\n",
       "      <td>numeric</td>\n",
       "      <td>numeric</td>\n",
       "      <td>numeric</td>\n",
       "      <td>numeric</td>\n",
       "    </tr>\n",
       "  </tbody>\n",
       "</table>\n",
       "<p>2 rows × 22 columns</p>\n",
       "</div>"
      ],
      "text/plain": [
       "           Store DayOfWeek     Year    Month      Day StateHoliday  \\\n",
       "uniques     1115         7        3       12       31            4   \n",
       "types    numeric   numeric  numeric  numeric  numeric      numeric   \n",
       "\n",
       "        CompetitionMonthsOpen Promo2Weeks StoreType Assortment  ...  \\\n",
       "uniques                    25          26         4          3  ...   \n",
       "types                 numeric     numeric   numeric    numeric  ...   \n",
       "\n",
       "        Promo2SinceYear    State     Week   Events Promo_fw Promo_bw  \\\n",
       "uniques               8       12       52       22        6        6   \n",
       "types           numeric  numeric  numeric  numeric  numeric  numeric   \n",
       "\n",
       "        StateHoliday_bool_fw StateHoliday_bool_bw SchoolHoliday_fw  \\\n",
       "uniques                    3                    3                8   \n",
       "types                numeric              numeric          numeric   \n",
       "\n",
       "        SchoolHoliday_bw  \n",
       "uniques                8  \n",
       "types            numeric  \n",
       "\n",
       "[2 rows x 22 columns]"
      ]
     },
     "execution_count": 11,
     "metadata": {},
     "output_type": "execute_result"
    }
   ],
   "source": [
    "DataFrameSummary(df[cat_vars]).summary().loc[['uniques', 'types']]"
   ]
  },
  {
   "cell_type": "code",
   "execution_count": 12,
   "metadata": {},
   "outputs": [],
   "source": [
    "uniques = DataFrameSummary(df[cat_vars]).summary().loc[['uniques']]"
   ]
  },
  {
   "cell_type": "code",
   "execution_count": 13,
   "metadata": {},
   "outputs": [
    {
     "data": {
      "text/html": [
       "<div>\n",
       "<style scoped>\n",
       "    .dataframe tbody tr th:only-of-type {\n",
       "        vertical-align: middle;\n",
       "    }\n",
       "\n",
       "    .dataframe tbody tr th {\n",
       "        vertical-align: top;\n",
       "    }\n",
       "\n",
       "    .dataframe thead th {\n",
       "        text-align: right;\n",
       "    }\n",
       "</style>\n",
       "<table border=\"1\" class=\"dataframe\">\n",
       "  <thead>\n",
       "    <tr style=\"text-align: right;\">\n",
       "      <th></th>\n",
       "      <th>Store</th>\n",
       "      <th>DayOfWeek</th>\n",
       "      <th>Year</th>\n",
       "      <th>Month</th>\n",
       "      <th>Day</th>\n",
       "      <th>StateHoliday</th>\n",
       "      <th>CompetitionMonthsOpen</th>\n",
       "      <th>Promo2Weeks</th>\n",
       "      <th>StoreType</th>\n",
       "      <th>Assortment</th>\n",
       "      <th>...</th>\n",
       "      <th>Promo2SinceYear</th>\n",
       "      <th>State</th>\n",
       "      <th>Week</th>\n",
       "      <th>Events</th>\n",
       "      <th>Promo_fw</th>\n",
       "      <th>Promo_bw</th>\n",
       "      <th>StateHoliday_bool_fw</th>\n",
       "      <th>StateHoliday_bool_bw</th>\n",
       "      <th>SchoolHoliday_fw</th>\n",
       "      <th>SchoolHoliday_bw</th>\n",
       "    </tr>\n",
       "  </thead>\n",
       "  <tbody>\n",
       "    <tr>\n",
       "      <th>uniques</th>\n",
       "      <td>1115</td>\n",
       "      <td>7</td>\n",
       "      <td>3</td>\n",
       "      <td>12</td>\n",
       "      <td>31</td>\n",
       "      <td>4</td>\n",
       "      <td>25</td>\n",
       "      <td>26</td>\n",
       "      <td>4</td>\n",
       "      <td>3</td>\n",
       "      <td>...</td>\n",
       "      <td>8</td>\n",
       "      <td>12</td>\n",
       "      <td>52</td>\n",
       "      <td>22</td>\n",
       "      <td>6</td>\n",
       "      <td>6</td>\n",
       "      <td>3</td>\n",
       "      <td>3</td>\n",
       "      <td>8</td>\n",
       "      <td>8</td>\n",
       "    </tr>\n",
       "  </tbody>\n",
       "</table>\n",
       "<p>1 rows × 22 columns</p>\n",
       "</div>"
      ],
      "text/plain": [
       "        Store DayOfWeek Year Month Day StateHoliday CompetitionMonthsOpen  \\\n",
       "uniques  1115         7    3    12  31            4                    25   \n",
       "\n",
       "        Promo2Weeks StoreType Assortment  ... Promo2SinceYear State Week  \\\n",
       "uniques          26         4          3  ...               8    12   52   \n",
       "\n",
       "        Events Promo_fw Promo_bw StateHoliday_bool_fw StateHoliday_bool_bw  \\\n",
       "uniques     22        6        6                    3                    3   \n",
       "\n",
       "        SchoolHoliday_fw SchoolHoliday_bw  \n",
       "uniques                8                8  \n",
       "\n",
       "[1 rows x 22 columns]"
      ]
     },
     "execution_count": 13,
     "metadata": {},
     "output_type": "execute_result"
    }
   ],
   "source": [
    "uniques"
   ]
  },
  {
   "cell_type": "markdown",
   "metadata": {},
   "source": [
    "# Asignación de dimensión de embeddings"
   ]
  },
  {
   "cell_type": "code",
   "execution_count": 14,
   "metadata": {},
   "outputs": [],
   "source": [
    "cat_var_dict = {'Store': 50, 'DayOfWeek': 4, 'Year': 2, 'Month': 6,\n",
    "'Day': 10, 'StateHoliday': 3, 'CompetitionMonthsOpen': 2,\n",
    "'Promo2Weeks': 1, 'StoreType': 2, 'Assortment': 3, 'PromoInterval': 3,\n",
    "'CompetitionOpenSinceYear': 4, 'Promo2SinceYear': 4, 'State': 6,\n",
    "'Week': 2, 'Events': 4, 'Promo_fw': 1,\n",
    "'Promo_bw': 1, 'StateHoliday_fw': 1,\n",
    "'StateHoliday_bw': 1, 'SchoolHoliday_fw': 1,\n",
    "'SchoolHoliday_bw': 1}"
   ]
  },
  {
   "cell_type": "markdown",
   "metadata": {},
   "source": [
    "## Ejemplo con DayOfWeek, store y CompetitionDistance"
   ]
  },
  {
   "cell_type": "code",
   "execution_count": 15,
   "metadata": {},
   "outputs": [
    {
     "data": {
      "text/plain": [
       "7"
      ]
     },
     "execution_count": 15,
     "metadata": {},
     "output_type": "execute_result"
    }
   ],
   "source": [
    "uniques['DayOfWeek'][0]"
   ]
  },
  {
   "cell_type": "code",
   "execution_count": 16,
   "metadata": {},
   "outputs": [],
   "source": [
    "from tensorflow.keras.models import Model\n",
    "from tensorflow.keras.optimizers import Adam\n",
    "from tensorflow.keras.layers import Embedding, Input, Flatten, Dense, Concatenate"
   ]
  },
  {
   "cell_type": "code",
   "execution_count": 17,
   "metadata": {},
   "outputs": [],
   "source": [
    "day_of_week_input = Input(shape=(1,), name=\"day_of_week_input\")\n",
    "store_input = Input(shape=(1,), name=\"store_input\")\n",
    "# Por ser continua competition_distance no necesita embeddings\n",
    "competition_distance_input = Input(shape=(1,), name=\"competition_distance_input\")\n",
    "\n",
    "day_of_week_Embedd_out = Embedding(uniques['DayOfWeek'][0], cat_var_dict['DayOfWeek'], name=\"day_of_week_Embedd\")(day_of_week_input)\n",
    "store_Embedd_out = Embedding(uniques['Store'][0], cat_var_dict['Store'], name=\"store_Embedd\")(store_input)"
   ]
  },
  {
   "cell_type": "code",
   "execution_count": 18,
   "metadata": {},
   "outputs": [
    {
     "name": "stdout",
     "output_type": "stream",
     "text": [
      "Entradas: (None, 1), (None, 1)\n",
      "Salidas: (None, 1, 4), (None, 1, 50)\n"
     ]
    }
   ],
   "source": [
    "print(f'Entradas: {day_of_week_input.shape}, {store_input.shape}')\n",
    "print(f'Salidas: {day_of_week_Embedd_out.shape}, {store_Embedd_out.shape}')"
   ]
  },
  {
   "cell_type": "code",
   "execution_count": 19,
   "metadata": {},
   "outputs": [],
   "source": [
    "day_of_week_Embedd_flat = Flatten(name=\"day_of_week_flat\")(day_of_week_Embedd_out)\n",
    "store_Embedd_flat = Flatten(name=\"store_flat\")(store_Embedd_out)"
   ]
  },
  {
   "cell_type": "code",
   "execution_count": 20,
   "metadata": {},
   "outputs": [],
   "source": [
    "merged = Concatenate(name='All_Concatenate')([day_of_week_Embedd_flat, store_Embedd_flat, competition_distance_input])"
   ]
  },
  {
   "cell_type": "code",
   "execution_count": 21,
   "metadata": {},
   "outputs": [],
   "source": [
    "x = Dense(1000, activation='relu')(merged)\n",
    "x = Dense(500, activation='relu')(x)\n",
    "output = Dense(1, activation='linear')(x)"
   ]
  },
  {
   "cell_type": "code",
   "execution_count": 22,
   "metadata": {},
   "outputs": [],
   "source": [
    "model = Model([day_of_week_input, store_input, competition_distance_input], output)"
   ]
  },
  {
   "cell_type": "code",
   "execution_count": 23,
   "metadata": {},
   "outputs": [
    {
     "name": "stdout",
     "output_type": "stream",
     "text": [
      "Model: \"model\"\n",
      "__________________________________________________________________________________________________\n",
      " Layer (type)                   Output Shape         Param #     Connected to                     \n",
      "==================================================================================================\n",
      " day_of_week_input (InputLayer)  [(None, 1)]         0           []                               \n",
      "                                                                                                  \n",
      " store_input (InputLayer)       [(None, 1)]          0           []                               \n",
      "                                                                                                  \n",
      " day_of_week_Embedd (Embedding)  (None, 1, 4)        28          ['day_of_week_input[0][0]']      \n",
      "                                                                                                  \n",
      " store_Embedd (Embedding)       (None, 1, 50)        55750       ['store_input[0][0]']            \n",
      "                                                                                                  \n",
      " day_of_week_flat (Flatten)     (None, 4)            0           ['day_of_week_Embedd[0][0]']     \n",
      "                                                                                                  \n",
      " store_flat (Flatten)           (None, 50)           0           ['store_Embedd[0][0]']           \n",
      "                                                                                                  \n",
      " competition_distance_input (In  [(None, 1)]         0           []                               \n",
      " putLayer)                                                                                        \n",
      "                                                                                                  \n",
      " All_Concatenate (Concatenate)  (None, 55)           0           ['day_of_week_flat[0][0]',       \n",
      "                                                                  'store_flat[0][0]',             \n",
      "                                                                  'competition_distance_input[0][0\n",
      "                                                                 ]']                              \n",
      "                                                                                                  \n",
      " dense (Dense)                  (None, 1000)         56000       ['All_Concatenate[0][0]']        \n",
      "                                                                                                  \n",
      " dense_1 (Dense)                (None, 500)          500500      ['dense[0][0]']                  \n",
      "                                                                                                  \n",
      " dense_2 (Dense)                (None, 1)            501         ['dense_1[0][0]']                \n",
      "                                                                                                  \n",
      "==================================================================================================\n",
      "Total params: 612,779\n",
      "Trainable params: 612,779\n",
      "Non-trainable params: 0\n",
      "__________________________________________________________________________________________________\n"
     ]
    }
   ],
   "source": [
    "model.summary()"
   ]
  },
  {
   "cell_type": "code",
   "execution_count": 24,
   "metadata": {},
   "outputs": [],
   "source": [
    "df_train = df[df.Date < datetime.datetime(2015, 7, 1)]  \n",
    "df_val = df[df.Date >= datetime.datetime(2015, 7, 1)]"
   ]
  },
  {
   "cell_type": "code",
   "execution_count": 25,
   "metadata": {},
   "outputs": [
    {
     "name": "stdout",
     "output_type": "stream",
     "text": [
      "Cantidad en val: 30188, porcentaje: 0.9642465458145908\n"
     ]
    }
   ],
   "source": [
    "print(f'Cantidad en val: {len(df_val)}, porcentaje: {len(df_train)/(len(df_train) + len(df_val))}')"
   ]
  },
  {
   "cell_type": "code",
   "execution_count": 26,
   "metadata": {},
   "outputs": [
    {
     "data": {
      "text/plain": [
       "(814150, 3)"
      ]
     },
     "execution_count": 26,
     "metadata": {},
     "output_type": "execute_result"
    }
   ],
   "source": [
    "df_train[['DayOfWeek', 'Store', 'CompetitionDistance']].values.shape"
   ]
  },
  {
   "cell_type": "code",
   "execution_count": 27,
   "metadata": {},
   "outputs": [],
   "source": [
    "X_train = np.hsplit(df_train[['DayOfWeek', 'Store', 'CompetitionDistance']].values, 3)\n",
    "X_val = np.hsplit(df_val[['DayOfWeek', 'Store', 'CompetitionDistance']].values, 3)"
   ]
  },
  {
   "cell_type": "code",
   "execution_count": 28,
   "metadata": {},
   "outputs": [
    {
     "data": {
      "text/plain": [
       "814150"
      ]
     },
     "execution_count": 28,
     "metadata": {},
     "output_type": "execute_result"
    }
   ],
   "source": [
    "len(X_train[2])"
   ]
  },
  {
   "cell_type": "code",
   "execution_count": 29,
   "metadata": {},
   "outputs": [],
   "source": [
    "# Normalización\n",
    "y_mean = df_train['Sales'].mean()\n",
    "y_std = df_train['Sales'].std()\n",
    "\n",
    "# Escala logaritmica\n",
    "# max_log_y = np.max(np.log(df['Sales']))\n",
    "# y_train = np.log(df['Sales'])/max_log_y"
   ]
  },
  {
   "cell_type": "code",
   "execution_count": 30,
   "metadata": {},
   "outputs": [],
   "source": [
    "y_train = (df_train['Sales'].values - y_mean)/y_std\n",
    "y_val = (df_val['Sales'].values - y_mean)/y_std"
   ]
  },
  {
   "cell_type": "code",
   "execution_count": 31,
   "metadata": {},
   "outputs": [
    {
     "name": "stderr",
     "output_type": "stream",
     "text": [
      "c:\\Users\\Diego\\AppData\\Local\\Programs\\Python\\Python38\\lib\\site-packages\\keras\\optimizers\\optimizer_v2\\adam.py:114: UserWarning: The `lr` argument is deprecated, use `learning_rate` instead.\n",
      "  super().__init__(name, **kwargs)\n"
     ]
    }
   ],
   "source": [
    "model.compile(optimizer=Adam(lr=0.001), metrics=['mse'], loss='mse')"
   ]
  },
  {
   "cell_type": "code",
   "execution_count": 44,
   "metadata": {},
   "outputs": [
    {
     "name": "stdout",
     "output_type": "stream",
     "text": [
      "Epoch 1/10\n",
      "3181/3181 [==============================] - 151s 47ms/step - loss: 0.3127 - mse: 0.3127 - val_loss: 0.2373 - val_mse: 0.2373\n",
      "Epoch 2/10\n",
      "3181/3181 [==============================] - 146s 46ms/step - loss: 0.3093 - mse: 0.3093 - val_loss: 0.2334 - val_mse: 0.2334\n",
      "Epoch 3/10\n",
      "3181/3181 [==============================] - 174s 55ms/step - loss: 0.3074 - mse: 0.3074 - val_loss: 0.2365 - val_mse: 0.2365\n",
      "Epoch 4/10\n",
      "3181/3181 [==============================] - 213s 67ms/step - loss: 0.3062 - mse: 0.3062 - val_loss: 0.2322 - val_mse: 0.2322\n",
      "Epoch 5/10\n",
      "3181/3181 [==============================] - 204s 64ms/step - loss: 0.3052 - mse: 0.3052 - val_loss: 0.2297 - val_mse: 0.2297\n",
      "Epoch 6/10\n",
      "3181/3181 [==============================] - 176s 55ms/step - loss: 0.3045 - mse: 0.3045 - val_loss: 0.2313 - val_mse: 0.2313\n",
      "Epoch 7/10\n",
      "3181/3181 [==============================] - 145s 46ms/step - loss: 0.3040 - mse: 0.3040 - val_loss: 0.2329 - val_mse: 0.2329\n",
      "Epoch 8/10\n",
      "3181/3181 [==============================] - 138s 43ms/step - loss: 0.3036 - mse: 0.3036 - val_loss: 0.2303 - val_mse: 0.2303\n",
      "Epoch 9/10\n",
      "3181/3181 [==============================] - 140s 44ms/step - loss: 0.3031 - mse: 0.3031 - val_loss: 0.2295 - val_mse: 0.2295\n",
      "Epoch 10/10\n",
      "3181/3181 [==============================] - 146s 46ms/step - loss: 0.3029 - mse: 0.3029 - val_loss: 0.2300 - val_mse: 0.2300\n"
     ]
    }
   ],
   "source": [
    "history = model.fit(X_train, y_train, validation_data=(X_val, y_val),  epochs=10, batch_size=256)"
   ]
  },
  {
   "cell_type": "markdown",
   "metadata": {},
   "source": [
    "# Métrica"
   ]
  },
  {
   "cell_type": "markdown",
   "metadata": {},
   "source": [
    "$$\n",
    "\\textrm{RMSE} = \\sqrt{\\frac{1}{n} \\sum_{i=1}^{n} \\left(\\frac{\\hat{y}_i - y_i}{y_i}\\right)^2}\n",
    "$$"
   ]
  },
  {
   "cell_type": "code",
   "execution_count": 46,
   "metadata": {},
   "outputs": [
    {
     "name": "stdout",
     "output_type": "stream",
     "text": [
      "944/944 [==============================] - 7s 8ms/step\n"
     ]
    }
   ],
   "source": [
    "y_pred_norm = model.predict(X_val, verbose=1)\n",
    "y_pred = y_pred_norm*y_std + y_mean\n",
    "# y_pred = np.exp(model.predict(X_train)*max_log_y)"
   ]
  },
  {
   "cell_type": "code",
   "execution_count": 34,
   "metadata": {},
   "outputs": [],
   "source": [
    "def root_mean_squared_error_np(y_true, y_pred):\n",
    "    return np.sqrt(np.mean(np.square((y_pred - y_true)), axis=-1))\n",
    "\n",
    "def rmspe_np(y_true, y_pred):\n",
    "    MSEP_ = ((y_true - y_pred)/y_true)**2\n",
    "    return np.sqrt(MSEP_.mean())"
   ]
  },
  {
   "cell_type": "code",
   "execution_count": 47,
   "metadata": {},
   "outputs": [
    {
     "data": {
      "text/plain": [
       "0.2164290811175565"
      ]
     },
     "execution_count": 47,
     "metadata": {},
     "output_type": "execute_result"
    }
   ],
   "source": [
    "rmspe_np(df_val['Sales'].values, y_pred.reshape(-1))"
   ]
  },
  {
   "cell_type": "code",
   "execution_count": 48,
   "metadata": {},
   "outputs": [
    {
     "data": {
      "image/png": "[encoded data removed]",
      "text/plain": [
       "<Figure size 640x480 with 1 Axes>"
      ]
     },
     "metadata": {},
     "output_type": "display_data"
    }
   ],
   "source": [
    "from matplotlib import pyplot as plt\n",
    "\n",
    "plt.plot(history.history['loss'])\n",
    "plt.ylabel('Loss'), plt.xlabel('Epoch')\n",
    "plt.show()"
   ]
  },
  {
   "cell_type": "code",
   "execution_count": null,
   "metadata": {},
   "outputs": [],
   "source": []
  }
 ],
 "metadata": {
  "kernelspec": {
   "display_name": "Python 3.8.10 64-bit",
   "language": "python",
   "name": "python3"
  },
  "language_info": {
   "codemirror_mode": {
    "name": "ipython",
    "version": 3
   },
   "file_extension": ".py",
   "mimetype": "text/x-python",
   "name": "python",
   "nbconvert_exporter": "python",
   "pygments_lexer": "ipython3",
   "version": "3.8.10"
  },
  "vscode": {
   "interpreter": {
    "hash": "650836156ac6dbed6473cd0465887d6aaed0c74bc7f64cf450469152ad5125a5"
   }
  }
 },
 "nbformat": 4,
 "nbformat_minor": 4
}
